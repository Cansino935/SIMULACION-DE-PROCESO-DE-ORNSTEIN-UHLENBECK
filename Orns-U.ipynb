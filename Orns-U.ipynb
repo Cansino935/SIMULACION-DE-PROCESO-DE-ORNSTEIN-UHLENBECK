{
 "cells": [
  {
   "cell_type": "markdown",
   "id": "92107eff",
   "metadata": {},
   "source": [
    "## Proyecto N-1 AFE\n",
    "Código con el procedimiento mencionado en la actividad."
   ]
  },
  {
   "cell_type": "markdown",
   "id": "74e19a55",
   "metadata": {},
   "source": [
    "## Importación de las librerias a utilizar para el código"
   ]
  },
  {
   "cell_type": "code",
   "execution_count": 1,
   "id": "ecac45ba",
   "metadata": {},
   "outputs": [],
   "source": [
    "# Librerias\n",
    "import numpy as np # Saltos en ciclos con valores reales y decimales, exponencial y raíz cuadrada.\n",
    "import matplotlib.pyplot as plt # Graficadora a utilizar.\n",
    "from scipy.stats import norm # Utilizarenos solo la función NORM para la generación de numeros aleatorios."
   ]
  },
  {
   "cell_type": "markdown",
   "id": "5226ca98",
   "metadata": {},
   "source": [
    "## Generación de 50 números aleatorios.\n",
    "Estos 50 \"números\" son los puntos que se logran observar en la gráfica dada en la imagen a referir.\n",
    "- numale es la lista vacía en la cual se registrarán los números aleatorios respecto la Normal (que son 50). Dando saltos de 0.2 a 0.2\n",
    "\n",
    "En la imagen a representar de la tarea tenemos dos gráficas diferentes, por lo que se opto un interfaz de interacción con el usuario, para que sea él que ingrese los valores correspondientes a dichas graficas:\n",
    "- velin es el valor dado en la imagen. Velocidad inicial.\n",
    "- velfn es el valor dado en la imagen. Velocidad final.\n",
    "\n",
    "Para la grafica de la izquierda seria necesario colocar:\n",
    "- Vo = velin = 4\n",
    "- Vd = velfn = 0\n",
    "\n",
    "Para la grafica de la derecha sería:\n",
    "- Vo = velin = 0\n",
    "- Vd = velfn = 4"
   ]
  },
  {
   "cell_type": "code",
   "execution_count": 2,
   "id": "e17b795b",
   "metadata": {},
   "outputs": [
    {
     "name": "stdout",
     "output_type": "stream",
     "text": [
      "¿Cual es valor Vo de la imagen?\n",
      "4\n",
      "¿Cual es el valor Vd de la imagen?\n",
      "0\n",
      "[ 0.02837496 -0.05425276 -0.01793154 -0.35196514  0.01396964 -0.29235413\n",
      "  0.12836516  0.154173    0.28448455  0.17949671 -0.16567344 -0.14614134\n",
      " -0.16967618  0.06783881  0.05225008 -0.35253533 -0.11079854 -0.26619478\n",
      "  0.07305654  0.23370316  0.09247473  0.01139605  0.32720654 -0.2587397\n",
      " -0.17539351 -0.19249502 -0.14978381  0.0426988  -0.07307367  0.03501704\n",
      " -0.2339092   0.28051905  0.10859444  0.30357205  0.08170257  0.20292409\n",
      " -0.03956181 -0.38578473  0.36342315  0.15918856  0.12578251  0.55451184\n",
      "  0.04041611 -0.16597141 -0.09382508  0.31951599  0.09610271 -0.11921702\n",
      "  0.25723914 -0.18799067]\n"
     ]
    }
   ],
   "source": [
    "# Generación de aleatorios.\n",
    "numale = [] # Lista vacia en un inicio donde se guardaran los valores aleatorios siguiendo la normal.\n",
    "numale = np.random.normal(0, 0.2, 50) # Un ciclo que comienza en 0 a 50 con pasos en intervalos de 0.2\n",
    "\n",
    "# Se realiza una interacción entre el usuario y el programa para que coloque los valores de forma manual.\n",
    "print(\"¿Cual es valor Vo de la imagen?\") # Mensaje mostrado al usuario.\n",
    "velin = int(input()) # El usuario colocar el valor indicado.\n",
    "print(\"¿Cual es el valor Vd de la imagen?\") # Mensaje mostrado al usuario.\n",
    "velfn = int(input()) # El usuario colocar el valor indicado.\n",
    "\n",
    "# Una alternativa es definir las variables pero se tendrían que hacer más líneas para casos en especifico.\n",
    "#velfn = 0 # Variable definida \"constante\".\n",
    "#velin = 4 # Variable definida \"constante\".\n",
    "\n",
    "print(numale) # Se puede utilizar como una comprobación de que se han impreso los números correctos."
   ]
  },
  {
   "cell_type": "markdown",
   "id": "669b7162",
   "metadata": {},
   "source": [
    "## Generación de la gráfica\n",
    "Proceso en el cual se desarrolla un simulación de las gráficas dadas.\n",
    "Comenzamos con establecer listas vacias para que se almacenen diferentes datos como:\n",
    "- velad Que son las velocidades que tendrá cada punto\n",
    "- prvd Que es la media de la velocidad\n",
    "- desup La desviación estandar superior (+)\n",
    "- desdwn La desviación inferior (-)\n",
    "\n",
    "Despúes realizamos un ciclo en el cual, tendremos un contador \"t\", que es el tiempo, el cual comenzará en 1 y terminará en 50.\n",
    "Tendremos un dt que es el \"delta de t\" que aparece en la imagen, dando así tiempos de 0.1 segundos cada intervalo hasta llegar a los 5 segundos. Dentro del ciclo tendremos una variables_\n",
    "- vdet Es la velocidad de cada de\n",
    "- velad Modificara el tamaño de la lista gracias a la funcion \"appende\" de numpy. Es decir, irá almacenando los valores vdet hasta que se termine el ciclo sin necesidad de darle un tamaño exacto a la lista velad.\n",
    "    \n",
    " \n",
    "Una vez calculada la velocidad de 0.1 seg, se procede a calcular su la media, varianza superior e inferior con respecto a las velocidad 0.2 seg\n",
    "- prvd Se irá ampliando automaticamente conforme se le ingresen datos.\n",
    "- desup Registrará la desviacon superior (+) con cada iteracion.\n",
    "- desdwn Registrará la desviacion inferior (-) con cada iteracion.\n",
    "    "
   ]
  },
  {
   "cell_type": "code",
   "execution_count": 3,
   "id": "8a091426",
   "metadata": {},
   "outputs": [],
   "source": [
    "# Calculos para generacion de grafica\n",
    "velad = [] # Velocidad v(t)\n",
    "prvd = [] # Promedio de velocidad {v(t)}\n",
    "desup = [] # Desviacion superior (+)\n",
    "desdwn = [] # Desviacion inferior (-)\n",
    "\n",
    "for t in range(1, 50): # Cilo de los tiempos en intervalos de 1 en 1 hasta 50.\n",
    "    dt = t / 10 # Convertirmos los intervalos de 0.1 en 0.1 hasta 5.\n",
    "    #vdet = velin * (np.exp(-dt)) + velfn * (1 - np.exp(-dt)) + np.sqrt(1 - np.exp(-2 * dt)) * (numale[t]) # Función de la imagen\n",
    "    #velad.append(vdet)\n",
    "    velad.append(velin * (np.exp(-dt)) + velfn * (1 - np.exp(-dt)) + np.sqrt(1 - np.exp(-2 * dt)) * (numale[t])) # Los datos se van guardando en la lista hasta que se termina el ciclo\n",
    "    prvd.append(velin * (np.exp( - dt)) + velfn * (1 - np.exp( - dt))) # Expresion de la media que ira a la lista prvd\n",
    "    desup.append(velin * (np.exp( - dt)) + velfn * (1 - np.exp( - dt)) + np.sqrt(1 - np.exp( - 2 * dt))) # Expresion de desvi sup\n",
    "    desdwn.append(velin * (np.exp( - dt)) + velfn * (1 - np.exp( - dt)) - np.sqrt(1 - np.exp( - 2 * dt))) # Expresion de desvi sup\n",
    "    # Se podrían implementar valores dentro de los appends para observar cual es el valor de cada cosa durante la iteración pero lo omitimos, sería nuestra \"vdet\""
   ]
  },
  {
   "cell_type": "markdown",
   "id": "40c9fb05",
   "metadata": {},
   "source": [
    "## Grafica\n",
    "El resultado final será \"similar\" al propuesto en la imagen de tarea.\n",
    "\n",
    "Utilizaremos pyplot como herramienta para graficar."
   ]
  },
  {
   "cell_type": "code",
   "execution_count": 4,
   "id": "4805b1f7",
   "metadata": {},
   "outputs": [
    {
     "data": {
      "image/png": "[encoded data removed]",
      "text/plain": [
       "<Figure size 432x288 with 1 Axes>"
      ]
     },
     "metadata": {
      "needs_background": "light"
     },
     "output_type": "display_data"
    }
   ],
   "source": [
    "# Grafica\n",
    "plt.scatter(np.arange(1, 50) / 10, velad, color = \"orange\", marker = \"x\") # Puntos (representados como \"x\" en Naranja) de cada velocidad\n",
    "plt.plot(np.arange(1, 50) / 10, prvd, color = \"green\") # La media definida como una curva continua de color Verde.\n",
    "plt.plot(np.arange(1, 50) / 10, desup, np.arange(1, 50) / 10, desdwn,color = 'black') # Desviacion sup e inf definida de como una curva Oscura\n",
    "plt.title(\"Velocidad respecto Tiempo\") # Titulo\n",
    "plt.xlabel(\"Tiempo\") # Eje horizontal de \"Tiempo\"\n",
    "plt.ylabel(\"Velocidad\") # Eje vertical de \"Velocidad\"\n",
    "plt.show() # Ejecutar la grafica"
   ]
  }
 ],
 "metadata": {
  "kernelspec": {
   "display_name": "Python 3 (ipykernel)",
   "language": "python",
   "name": "python3"
  },
  "language_info": {
   "codemirror_mode": {
    "name": "ipython",
    "version": 3
   },
   "file_extension": ".py",
   "mimetype": "text/x-python",
   "name": "python",
   "nbconvert_exporter": "python",
   "pygments_lexer": "ipython3",
   "version": "3.9.12"
  }
 },
 "nbformat": 4,
 "nbformat_minor": 5
}
